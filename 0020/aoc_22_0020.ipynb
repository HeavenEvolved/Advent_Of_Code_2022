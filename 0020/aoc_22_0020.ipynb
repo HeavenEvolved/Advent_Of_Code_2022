{
 "cells": [
  {
   "cell_type": "code",
   "execution_count": 4,
   "metadata": {},
   "outputs": [],
   "source": [
    "data_filepath = '../../../Advent_Of_Code_2022/DataFiles/data_day_0010.txt'\n",
    "\n",
    "with open(data_filepath, 'r') as fp:\n",
    "\n",
    "    data = fp.read().strip().split('\\n')\n",
    "\n",
    "test_filepath = '../../../Advent_Of_Code_2022/DataFiles/test_data_0010.txt'\n",
    "\n",
    "with open(test_filepath, 'r') as fp:\n",
    "\n",
    "    test_data = fp.read().strip().split('\\n')"
   ]
  },
  {
   "cell_type": "code",
   "execution_count": 2,
   "metadata": {},
   "outputs": [
    {
     "data": {
      "text/plain": [
       "40"
      ]
     },
     "execution_count": 2,
     "metadata": {},
     "output_type": "execute_result"
    }
   ],
   "source": [
    "len('########################################')"
   ]
  },
  {
   "cell_type": "code",
   "execution_count": 12,
   "metadata": {},
   "outputs": [
    {
     "name": "stdout",
     "output_type": "stream",
     "text": [
      "14780\n",
      "####.#....###..#....####..##..####.#....\n",
      "#....#....#..#.#.......#.#..#....#.#....\n",
      "###..#....#..#.#......#..#......#..#....\n",
      "#....#....###..#.....#...#.##..#...#....\n",
      "#....#....#....#....#....#..#.#....#....\n",
      "####.####.#....####.####..###.####.####.\n"
     ]
    }
   ],
   "source": [
    "X = 1\n",
    "cycles = 0\n",
    "req = {r: 0 for r in range(20, 221, 40)}\n",
    "display = \"\"\n",
    "\n",
    "for line in data:\n",
    "    loops = 1 + (line != \"noop\")\n",
    "    for _ in range(loops):\n",
    "        if X-1 <= cycles % 40 <= X+1:\n",
    "            display += \"#\"\n",
    "        else:\n",
    "            display += \".\"\n",
    "\n",
    "        cycles += 1\n",
    "        if cycles in req.keys():\n",
    "            req[cycles] = cycles * X\n",
    "\n",
    "    if line != \"noop\":\n",
    "        X += int(line.split()[1])\n",
    "\n",
    "print(sum(req.values()))\n",
    "print(\"\\n\".join(display[x:x+40] for x in range(0, 240, 40)))"
   ]
  },
  {
   "cell_type": "code",
   "execution_count": null,
   "metadata": {},
   "outputs": [],
   "source": []
  }
 ],
 "metadata": {
  "kernelspec": {
   "display_name": "Python 3.10.6 ('work_env')",
   "language": "python",
   "name": "python3"
  },
  "language_info": {
   "codemirror_mode": {
    "name": "ipython",
    "version": 3
   },
   "file_extension": ".py",
   "mimetype": "text/x-python",
   "name": "python",
   "nbconvert_exporter": "python",
   "pygments_lexer": "ipython3",
   "version": "3.10.6"
  },
  "orig_nbformat": 4,
  "vscode": {
   "interpreter": {
    "hash": "72dcb3faa37ade2020a234990edafe6daa1b6e37ccadfe6b1095b7450ad07f30"
   }
  }
 },
 "nbformat": 4,
 "nbformat_minor": 2
}
