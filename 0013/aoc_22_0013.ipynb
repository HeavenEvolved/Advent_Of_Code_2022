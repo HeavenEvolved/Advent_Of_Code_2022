{
 "cells": [
  {
   "cell_type": "code",
   "execution_count": 109,
   "metadata": {},
   "outputs": [],
   "source": [
    "filepath = '../../../Advent_Of_Code_2022/DataFiles/data_day_0007.txt'\n",
    "\n",
    "with open(filepath, 'r') as fp:\n",
    "\n",
    "    data = fp.read().strip().split('\\n')\n",
    "\n",
    "test_data = '$ cd /\\n$ ls\\ndir a\\n14848514 b.txt\\n8504156 c.dat\\ndir d\\n$ cd a\\n$ ls\\ndir e\\n29116 f\\n2557 g\\n62596 h.lst\\n$ cd e\\n$ ls\\n584 i\\n$ cd ..\\n$ cd ..\\n$ cd d\\n$ ls\\n4060174 j\\n8033020 d.log\\n5626152 d.ext\\n7214296 k'\n",
    "\n",
    "test_data = test_data.strip().split('\\n')"
   ]
  },
  {
   "cell_type": "code",
   "execution_count": 110,
   "metadata": {},
   "outputs": [],
   "source": [
    "for i in range(len(data)):\n",
    "\n",
    "    data[i] = data[i].replace('$ ', '')\n",
    "\n",
    "for i in range(len(test_data)):\n",
    "\n",
    "    test_data[i] = test_data[i].replace('$ ', '')"
   ]
  },
  {
   "cell_type": "code",
   "execution_count": 111,
   "metadata": {},
   "outputs": [],
   "source": [
    "path = list()\n",
    "size = dict()\n",
    "\n",
    "for i in data:\n",
    "\n",
    "    if i.startswith('cd'):\n",
    "\n",
    "        if i[3:] == '..':\n",
    "            path.pop()\n",
    "\n",
    "        elif i[3:] == '/':\n",
    "            path = []\n",
    "\n",
    "        else:\n",
    "            path.append(i[3:])\n",
    "    \n",
    "    elif i.startswith('ls'):\n",
    "        pass\n",
    "    elif i.startswith('dir'):\n",
    "        pass\n",
    "    \n",
    "    else:\n",
    "        for j in range(len(path)+1):\n",
    "            \n",
    "            size.setdefault(tuple(path[:j]), 0)\n",
    "            size[tuple(path[:j])] += int(i.split()[0])"
   ]
  },
  {
   "cell_type": "code",
   "execution_count": 112,
   "metadata": {},
   "outputs": [
    {
     "name": "stdout",
     "output_type": "stream",
     "text": [
      "2031851\n"
     ]
    }
   ],
   "source": [
    "total = 0\n",
    "\n",
    "for key, value in size.items():\n",
    "\n",
    "    if value <= 100000:\n",
    "\n",
    "        total += value\n",
    "\n",
    "print(total)"
   ]
  }
 ],
 "metadata": {
  "kernelspec": {
   "display_name": "Python 3.10.6 ('work_env')",
   "language": "python",
   "name": "python3"
  },
  "language_info": {
   "codemirror_mode": {
    "name": "ipython",
    "version": 3
   },
   "file_extension": ".py",
   "mimetype": "text/x-python",
   "name": "python",
   "nbconvert_exporter": "python",
   "pygments_lexer": "ipython3",
   "version": "3.10.6"
  },
  "orig_nbformat": 4,
  "vscode": {
   "interpreter": {
    "hash": "72dcb3faa37ade2020a234990edafe6daa1b6e37ccadfe6b1095b7450ad07f30"
   }
  }
 },
 "nbformat": 4,
 "nbformat_minor": 2
}
