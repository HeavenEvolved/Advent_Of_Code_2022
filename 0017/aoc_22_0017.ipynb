{
 "cells": [
  {
   "cell_type": "code",
   "execution_count": 231,
   "metadata": {},
   "outputs": [],
   "source": [
    "filepath = '../../../Advent_Of_Code_2022/DataFiles/data_day_0009.txt'\n",
    "\n",
    "with open(filepath, 'r') as fp:\n",
    "\n",
    "    data = fp.read().strip().split('\\n')\n",
    "\n",
    "test_data = 'R 4\\nU 4\\nL 3\\nD 1\\nR 4\\nD 1\\nL 5\\nR 2'.split('\\n')"
   ]
  },
  {
   "cell_type": "code",
   "execution_count": 232,
   "metadata": {},
   "outputs": [],
   "source": [
    "data = [data[i].split() for i in range(len(data))]\n",
    "test_data = [test_data[i].split() for i in range(len(test_data))]"
   ]
  },
  {
   "cell_type": "code",
   "execution_count": 233,
   "metadata": {},
   "outputs": [
    {
     "data": {
      "text/plain": [
       "[['R', '4'],\n",
       " ['U', '4'],\n",
       " ['L', '3'],\n",
       " ['D', '1'],\n",
       " ['R', '4'],\n",
       " ['D', '1'],\n",
       " ['L', '5'],\n",
       " ['R', '2']]"
      ]
     },
     "execution_count": 233,
     "metadata": {},
     "output_type": "execute_result"
    }
   ],
   "source": [
    "test_data[:10]"
   ]
  },
  {
   "cell_type": "code",
   "execution_count": 236,
   "metadata": {},
   "outputs": [
    {
     "name": "stdout",
     "output_type": "stream",
     "text": [
      "5513\n"
     ]
    }
   ],
   "source": [
    "head = [0,0]\n",
    "tail = [0,0]\n",
    "\n",
    "tail_counter = 0\n",
    "flag = True\n",
    "tail_pos_save = set()\n",
    "\n",
    "for i in range(len(data)):\n",
    "\n",
    "    steps = int(data[i][1])\n",
    "    \n",
    "    while steps:\n",
    "\n",
    "        match data[i][0]:\n",
    "\n",
    "            case 'U':\n",
    "                head = [head[0]-1, head[1]]\n",
    "                steps -= 1\n",
    "            case 'D':\n",
    "                head = [head[0]+1, head[1]]\n",
    "                steps -= 1\n",
    "            case 'L':\n",
    "                head = [head[0], head[1]-1]\n",
    "                steps -= 1\n",
    "            case 'R':\n",
    "                head = [head[0], head[1]+1]\n",
    "                steps -= 1\n",
    "\n",
    "    steps = int(((abs(head[0] - tail[0]) ** 2) + (abs(head[1] - tail[1]) ** 2)) ** 0.5) - 1\n",
    "    while steps > 0:\n",
    "\n",
    "        tail_pos_save.add(tuple(tail))\n",
    "        \n",
    "        #print(int(pow(pow(abs(head[0] - tail[0]), 2) + pow(abs(head[1] - tail[1]), 2), 0.5)))\n",
    "\n",
    "        if tail[0] == head[0]:\n",
    "            if tail[1] > head[1]:\n",
    "                tail = [tail[0], tail[1]-1]\n",
    "            elif tail[1] < head[1]:\n",
    "                tail = [tail[0], tail[1]+1]\n",
    "\n",
    "        elif tail[0] > head[0]:\n",
    "            if tail[1] > head[1]:\n",
    "                tail = [tail[0]-1, tail[1]-1]\n",
    "            elif tail[1] < head[1]:\n",
    "                tail = [tail[0]-1, tail[1]+1]\n",
    "            elif tail[1] == head[1]:\n",
    "                tail = [tail[0]-1, tail[1]]\n",
    "\n",
    "        elif tail[0] < head[0]:\n",
    "            if tail[1] > head[1]:\n",
    "                tail = [tail[0]+1, tail[1]-1]\n",
    "            elif tail[1] < head[1]:\n",
    "                tail = [tail[0]+1, tail[1]+1]\n",
    "            elif tail[1] == head[1]:\n",
    "                tail = [tail[0]+1, tail[1]]\n",
    "        \n",
    "        steps -= 1\n",
    "\n",
    "print(len(tail_pos_save)+1)"
   ]
  }
 ],
 "metadata": {
  "kernelspec": {
   "display_name": "Python 3.10.6 ('work_env')",
   "language": "python",
   "name": "python3"
  },
  "language_info": {
   "codemirror_mode": {
    "name": "ipython",
    "version": 3
   },
   "file_extension": ".py",
   "mimetype": "text/x-python",
   "name": "python",
   "nbconvert_exporter": "python",
   "pygments_lexer": "ipython3",
   "version": "3.10.6"
  },
  "orig_nbformat": 4,
  "vscode": {
   "interpreter": {
    "hash": "72dcb3faa37ade2020a234990edafe6daa1b6e37ccadfe6b1095b7450ad07f30"
   }
  }
 },
 "nbformat": 4,
 "nbformat_minor": 2
}
