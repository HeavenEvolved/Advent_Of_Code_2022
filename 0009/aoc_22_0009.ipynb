{
 "cells": [
  {
   "cell_type": "code",
   "execution_count": 109,
   "metadata": {},
   "outputs": [],
   "source": [
    "filepath = '../../../Advent_Of_Code_2022/DataFiles/data_day_0005.txt'\n",
    "\n",
    "with open(filepath, 'r') as fp:\n",
    "\n",
    "    data = fp.read().rstrip()\n",
    "\n",
    "data = data.split('\\n')"
   ]
  },
  {
   "cell_type": "code",
   "execution_count": 110,
   "metadata": {},
   "outputs": [],
   "source": [
    "stacks = {\n",
    "    '1': ['H', 'R', 'B', 'D', 'Z', 'F', 'L', 'S'],\n",
    "    '2': ['T', 'B', 'M', 'Z', 'R'],\n",
    "    '3': ['Z', 'L', 'C', 'H', 'N', 'S'],\n",
    "    '4': ['S', 'C', 'F', 'J'],\n",
    "    '5': ['P', 'G', 'H', 'W', 'R', 'Z', 'B'],\n",
    "    '6': ['V', 'J', 'Z', 'G', 'D', 'N', 'M', 'T'],\n",
    "    '7': ['G', 'L', 'N', 'W', 'F', 'S', 'P', 'Q'],\n",
    "    '8': ['M', 'Z', 'R'],\n",
    "    '9': ['M', 'C', 'L', 'G', 'V', 'R', 'T']\n",
    "}"
   ]
  },
  {
   "cell_type": "code",
   "execution_count": 111,
   "metadata": {},
   "outputs": [],
   "source": [
    "for i in range(len(data)):\n",
    "\n",
    "    data[i] = data[i].replace('move ', '').replace(' from ', ' ').replace(' to ', ' ')\n",
    "    data[i] = data[i].split(' ')"
   ]
  },
  {
   "cell_type": "code",
   "execution_count": 113,
   "metadata": {},
   "outputs": [],
   "source": [
    "for i in data:\n",
    "    for j in range(int(i[0])):\n",
    "        \n",
    "        item = stacks[i[1]].pop()\n",
    "        stacks[i[2]].append(item)"
   ]
  },
  {
   "cell_type": "code",
   "execution_count": 115,
   "metadata": {},
   "outputs": [
    {
     "data": {
      "text/plain": [
       "'RNZLFZSJH'"
      ]
     },
     "execution_count": 115,
     "metadata": {},
     "output_type": "execute_result"
    }
   ],
   "source": [
    "answer = ''\n",
    "for i in range(1, 10):\n",
    "\n",
    "    answer += stacks[str(i)][-1]\n",
    "\n",
    "answer"
   ]
  },
  {
   "cell_type": "code",
   "execution_count": null,
   "metadata": {},
   "outputs": [],
   "source": []
  }
 ],
 "metadata": {
  "kernelspec": {
   "display_name": "Python 3.10.6 ('work_env')",
   "language": "python",
   "name": "python3"
  },
  "language_info": {
   "codemirror_mode": {
    "name": "ipython",
    "version": 3
   },
   "file_extension": ".py",
   "mimetype": "text/x-python",
   "name": "python",
   "nbconvert_exporter": "python",
   "pygments_lexer": "ipython3",
   "version": "3.10.6"
  },
  "orig_nbformat": 4,
  "vscode": {
   "interpreter": {
    "hash": "72dcb3faa37ade2020a234990edafe6daa1b6e37ccadfe6b1095b7450ad07f30"
   }
  }
 },
 "nbformat": 4,
 "nbformat_minor": 2
}
