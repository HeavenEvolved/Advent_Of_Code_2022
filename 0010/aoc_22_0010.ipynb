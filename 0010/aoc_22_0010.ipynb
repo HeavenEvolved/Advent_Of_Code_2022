{
 "cells": [
  {
   "cell_type": "code",
   "execution_count": 47,
   "metadata": {},
   "outputs": [],
   "source": [
    "filepath = '../../../Advent_Of_Code_2022/DataFiles/data_day_0005.txt'\n",
    "\n",
    "with open(filepath, 'r') as fp:\n",
    "\n",
    "    data = fp.read().rstrip()\n",
    "\n",
    "data = data.split('\\n')"
   ]
  },
  {
   "cell_type": "code",
   "execution_count": 48,
   "metadata": {},
   "outputs": [],
   "source": [
    "stacks = {\n",
    "    '1': ['H', 'R', 'B', 'D', 'Z', 'F', 'L', 'S'],\n",
    "    '2': ['T', 'B', 'M', 'Z', 'R'],\n",
    "    '3': ['Z', 'L', 'C', 'H', 'N', 'S'],\n",
    "    '4': ['S', 'C', 'F', 'J'],\n",
    "    '5': ['P', 'G', 'H', 'W', 'R', 'Z', 'B'],\n",
    "    '6': ['V', 'J', 'Z', 'G', 'D', 'N', 'M', 'T'],\n",
    "    '7': ['G', 'L', 'N', 'W', 'F', 'S', 'P', 'Q'],\n",
    "    '8': ['M', 'Z', 'R'],\n",
    "    '9': ['M', 'C', 'L', 'G', 'V', 'R', 'T']\n",
    "}"
   ]
  },
  {
   "cell_type": "code",
   "execution_count": 49,
   "metadata": {},
   "outputs": [],
   "source": [
    "for i in range(len(data)):\n",
    "\n",
    "    data[i] = data[i].replace('move ', '').replace(' from ', ' ').replace(' to ', ' ')\n",
    "    data[i] = data[i].split(' ')"
   ]
  },
  {
   "cell_type": "code",
   "execution_count": 52,
   "metadata": {},
   "outputs": [
    {
     "ename": "TypeError",
     "evalue": "bad operand type for unary -: 'str'",
     "output_type": "error",
     "traceback": [
      "\u001b[0;31m---------------------------------------------------------------------------\u001b[0m",
      "\u001b[0;31mTypeError\u001b[0m                                 Traceback (most recent call last)",
      "Cell \u001b[0;32mIn [52], line 5\u001b[0m\n\u001b[1;32m      3\u001b[0m item \u001b[39m=\u001b[39m stacks[i[\u001b[39m1\u001b[39m]][\u001b[39m-\u001b[39m(\u001b[39mint\u001b[39m(i[\u001b[39m0\u001b[39m])):]\n\u001b[1;32m      4\u001b[0m stacks[i[\u001b[39m2\u001b[39m]]\u001b[39m.\u001b[39mappend(item)\n\u001b[0;32m----> 5\u001b[0m stacks[i[\u001b[39m1\u001b[39m]] \u001b[39m=\u001b[39m stacks[i[\u001b[39m1\u001b[39m]][:\u001b[39m-\u001b[39;49m(i[\u001b[39m0\u001b[39;49m])]\n",
      "\u001b[0;31mTypeError\u001b[0m: bad operand type for unary -: 'str'"
     ]
    }
   ],
   "source": [
    "for i in data:\n",
    "    \n",
    "    item = stacks[i[1]][-(int(i[0])):]\n",
    "    stacks[i[2]].append(item)\n",
    "    stacks[i[1]] = stacks[i[1]][:-(int(i[0]))]"
   ]
  },
  {
   "cell_type": "code",
   "execution_count": null,
   "metadata": {},
   "outputs": [],
   "source": []
  }
 ],
 "metadata": {
  "kernelspec": {
   "display_name": "Python 3.10.6 ('work_env')",
   "language": "python",
   "name": "python3"
  },
  "language_info": {
   "codemirror_mode": {
    "name": "ipython",
    "version": 3
   },
   "file_extension": ".py",
   "mimetype": "text/x-python",
   "name": "python",
   "nbconvert_exporter": "python",
   "pygments_lexer": "ipython3",
   "version": "3.10.6"
  },
  "orig_nbformat": 4,
  "vscode": {
   "interpreter": {
    "hash": "72dcb3faa37ade2020a234990edafe6daa1b6e37ccadfe6b1095b7450ad07f30"
   }
  }
 },
 "nbformat": 4,
 "nbformat_minor": 2
}
