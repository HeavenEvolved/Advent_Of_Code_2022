{
 "cells": [
  {
   "cell_type": "code",
   "execution_count": 69,
   "metadata": {},
   "outputs": [],
   "source": [
    "filepath = '../DataFiles/data_day_0003.txt'\n",
    "\n",
    "with open(filepath, 'r') as fp:\n",
    "\n",
    "    data = fp.read().rstrip()"
   ]
  },
  {
   "cell_type": "code",
   "execution_count": null,
   "metadata": {},
   "outputs": [],
   "source": [
    "test_data = 'vJrwpWtwJgWrhcsFMMfFFhFp\\njqHRNqRjqzjGDLGLrsFMfFZSrLrFZsSL\\nPmmdzqPrVvPwwTWBwg\\nwMqvLMZHhHMvwLHjbvcjnnSBnvTQFn\\nttgJtRGJQctTZtZT\\nCrZsJsPPZsGzwwsLwLmpwMDw'\n",
    "test_data = test_data.split('\\n')"
   ]
  },
  {
   "cell_type": "code",
   "execution_count": 65,
   "metadata": {},
   "outputs": [],
   "source": [
    "data = data.split('\\n')"
   ]
  },
  {
   "cell_type": "code",
   "execution_count": 66,
   "metadata": {},
   "outputs": [],
   "source": [
    "new_data = list()\n",
    "\n",
    "for i in data:\n",
    "    half_len = len(i) // 2\n",
    "    new_data.append([i[:half_len], i[half_len:]])    "
   ]
  },
  {
   "cell_type": "code",
   "execution_count": 67,
   "metadata": {},
   "outputs": [
    {
     "name": "stdout",
     "output_type": "stream",
     "text": [
      "7872\n"
     ]
    }
   ],
   "source": [
    "commons = list()\n",
    "\n",
    "for i in new_data:\n",
    "    chars = list(set(i[0]).intersection(i[1]))\n",
    "    for j in chars:\n",
    "        #print(j)  \n",
    "        if j.islower():\n",
    "            #print(ord(j)-96)\n",
    "            commons.append(ord(j)-96)\n",
    "        elif j.isupper():\n",
    "            #print(ord(j)-38)\n",
    "            commons.append(ord(j)-38)\n",
    "\n",
    "print(sum(commons))"
   ]
  },
  {
   "cell_type": "code",
   "execution_count": 68,
   "metadata": {},
   "outputs": [
    {
     "data": {
      "text/plain": [
       "52"
      ]
     },
     "execution_count": 68,
     "metadata": {},
     "output_type": "execute_result"
    }
   ],
   "source": [
    "ord('Z') - 38"
   ]
  },
  {
   "cell_type": "code",
   "execution_count": null,
   "metadata": {},
   "outputs": [],
   "source": []
  }
 ],
 "metadata": {
  "kernelspec": {
   "display_name": "Python 3.10.6 ('work_env')",
   "language": "python",
   "name": "python3"
  },
  "language_info": {
   "codemirror_mode": {
    "name": "ipython",
    "version": 3
   },
   "file_extension": ".py",
   "mimetype": "text/x-python",
   "name": "python",
   "nbconvert_exporter": "python",
   "pygments_lexer": "ipython3",
   "version": "3.10.6"
  },
  "orig_nbformat": 4,
  "vscode": {
   "interpreter": {
    "hash": "72dcb3faa37ade2020a234990edafe6daa1b6e37ccadfe6b1095b7450ad07f30"
   }
  }
 },
 "nbformat": 4,
 "nbformat_minor": 2
}
