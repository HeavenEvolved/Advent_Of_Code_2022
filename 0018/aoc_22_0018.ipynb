{
 "cells": [
  {
   "cell_type": "code",
   "execution_count": 28,
   "metadata": {},
   "outputs": [],
   "source": [
    "filepath = '../../../Advent_Of_Code_2022/DataFiles/data_day_0009.txt'\n",
    "\n",
    "with open(filepath, 'r') as fp:\n",
    "\n",
    "    data = fp.read().strip().split('\\n')\n",
    "\n",
    "test_data = 'R 5\\nU 8\\nL 8\\nD 3\\nR 17\\nD 10\\nL 25\\nU 20'.split('\\n')"
   ]
  },
  {
   "cell_type": "code",
   "execution_count": 29,
   "metadata": {},
   "outputs": [],
   "source": [
    "data = [data[i].split() for i in range(len(data))]\n",
    "test_data = [test_data[i].split() for i in range(len(test_data))]"
   ]
  },
  {
   "cell_type": "code",
   "execution_count": 30,
   "metadata": {},
   "outputs": [
    {
     "data": {
      "text/plain": [
       "[['R', '5'],\n",
       " ['U', '8'],\n",
       " ['L', '8'],\n",
       " ['D', '3'],\n",
       " ['R', '17'],\n",
       " ['D', '10'],\n",
       " ['L', '25'],\n",
       " ['U', '20']]"
      ]
     },
     "execution_count": 30,
     "metadata": {},
     "output_type": "execute_result"
    }
   ],
   "source": [
    "test_data"
   ]
  },
  {
   "cell_type": "markdown",
   "metadata": {},
   "source": [
    "head = [0,0]\n",
    "\n",
    "head_pos_save = set()\n",
    "head_tail_pos_save = set()\n",
    "\n",
    "for i in range(len(test_data)):\n",
    "\n",
    "    steps = int(test_data[i][1])\n",
    "    \n",
    "    while steps:\n",
    "\n",
    "        head_pos_save.add(tuple(head))\n",
    "\n",
    "        match test_data[i][0]:\n",
    "\n",
    "            case 'U':\n",
    "                head = [head[0]-1, head[1]]\n",
    "                steps -= 1\n",
    "            case 'D':\n",
    "                head = [head[0]+1, head[1]]\n",
    "                steps -= 1\n",
    "            case 'L':\n",
    "                head = [head[0], head[1]-1]\n",
    "                steps -= 1\n",
    "            case 'R':\n",
    "                head = [head[0], head[1]+1]\n",
    "                steps -= 1\n",
    "\n",
    "        print(head_pos_save)\n",
    "\n",
    "        if len(head_pos_save) == 10:\n",
    "            head_tail_pos_save.add(tuple(head))\n",
    "            break\n",
    "\n",
    "def get_pos(coord):\n",
    "\n",
    "    for i in range(len(test_data)):\n",
    "\n",
    "        steps = int(test_data[i][1])\n",
    "        \n",
    "        while steps:\n",
    "\n",
    "            match test_data[i][0]:\n",
    "\n",
    "                case 'U':\n",
    "                    head = [head[0]-1, head[1]]\n",
    "                    steps -= 1\n",
    "                case 'D':\n",
    "                    head = [head[0]+1, head[1]]\n",
    "                    steps -= 1\n",
    "                case 'L':\n",
    "                    head = [head[0], head[1]-1]\n",
    "                    steps -= 1\n",
    "                case 'R':\n",
    "                    head = [head[0], head[1]+1]\n",
    "                    steps -= 1\n",
    "\n",
    "            head_tail_pos_save.add(tuple(head))\n",
    "\n",
    "print(len(head_tail_pos_save))\n"
   ]
  },
  {
   "cell_type": "code",
   "execution_count": 36,
   "metadata": {},
   "outputs": [
    {
     "name": "stdout",
     "output_type": "stream",
     "text": [
      "5513\n",
      "2427\n"
     ]
    }
   ],
   "source": [
    "moves = [(a, int(b)) for a,b in data]\n",
    "\n",
    "def simulate(n):\n",
    "    tails = {0}\n",
    "    knots = [0] * n\n",
    "\n",
    "    for move in moves:\n",
    "        for i in range(move[1]):\n",
    "            knots[0] += {\"U\": 1, \"D\": -1, \"L\": -1j, \"R\": 1j}[move[0]]\n",
    "\n",
    "            for x, knot in enumerate(knots[1:], 1):\n",
    "                curr, prev = knots[x], knots[x - 1]\n",
    "                if abs(curr - prev) >= 2:\n",
    "                    if prev.real > curr.real:\n",
    "                        knots[x] += 1\n",
    "                    if prev.real < curr.real:\n",
    "                        knots[x] -= 1\n",
    "                    if prev.imag < curr.imag:\n",
    "                        knots[x] -= 1j\n",
    "                    if prev.imag > curr.imag:\n",
    "                        knots[x] += 1j\n",
    "\n",
    "            tails.add(knots[-1])\n",
    "\n",
    "    print(len(tails))\n",
    "\n",
    "\n",
    "simulate(2)\n",
    "simulate(10)"
   ]
  },
  {
   "cell_type": "code",
   "execution_count": null,
   "metadata": {},
   "outputs": [],
   "source": []
  }
 ],
 "metadata": {
  "kernelspec": {
   "display_name": "Python 3.10.6 ('work_env')",
   "language": "python",
   "name": "python3"
  },
  "language_info": {
   "codemirror_mode": {
    "name": "ipython",
    "version": 3
   },
   "file_extension": ".py",
   "mimetype": "text/x-python",
   "name": "python",
   "nbconvert_exporter": "python",
   "pygments_lexer": "ipython3",
   "version": "3.10.6"
  },
  "orig_nbformat": 4,
  "vscode": {
   "interpreter": {
    "hash": "72dcb3faa37ade2020a234990edafe6daa1b6e37ccadfe6b1095b7450ad07f30"
   }
  }
 },
 "nbformat": 4,
 "nbformat_minor": 2
}
